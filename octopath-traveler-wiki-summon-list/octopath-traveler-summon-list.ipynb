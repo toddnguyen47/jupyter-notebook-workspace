{
 "cells": [
  {
   "cell_type": "code",
   "execution_count": 1,
   "metadata": {},
   "outputs": [],
   "source": [
    "from typing import List"
   ]
  },
  {
   "cell_type": "code",
   "execution_count": 2,
   "metadata": {},
   "outputs": [],
   "source": [
    "_data: List = []\n",
    "_max_length = -1\n",
    "_delim = \"|\""
   ]
  },
  {
   "cell_type": "code",
   "execution_count": 3,
   "metadata": {},
   "outputs": [],
   "source": [
    "with open(\"summon-list.txt\", \"r\") as file:\n",
    "    _data = file.read().split(\"\\n\")"
   ]
  },
  {
   "cell_type": "code",
   "execution_count": 4,
   "metadata": {},
   "outputs": [],
   "source": [
    "_new_data: List = []\n",
    "\n",
    "for data in _data:\n",
    "    if data.strip():\n",
    "        tokens = data.split(_delim)\n",
    "        city_name = tokens[1].strip()\n",
    "        linked_name = \"[[{}]]\".format(city_name)\n",
    "        _max_length = max(_max_length, len(linked_name))\n",
    "        new_tokens = tokens[0:1] + [linked_name] + tokens[2:]\n",
    "        _new_data.append(new_tokens)"
   ]
  },
  {
   "cell_type": "code",
   "execution_count": 5,
   "metadata": {},
   "outputs": [],
   "source": [
    "# For each linked_name, we have to pad the width\n",
    "for data in _new_data:\n",
    "    data[1] = data[1].ljust(_max_length)"
   ]
  },
  {
   "cell_type": "code",
   "execution_count": 6,
   "metadata": {},
   "outputs": [
    {
     "name": "stdout",
     "output_type": "stream",
     "text": [
      "Done exporting to output.txt\n"
     ]
    }
   ],
   "source": [
    "# Export the output now\n",
    "_output_name = \"output.txt\"\n",
    "with open(_output_name, \"w\", newline=\"\\n\") as output_file:\n",
    "    for data in _new_data:\n",
    "        str1 = _delim.join(data)\n",
    "        print(str1, file=output_file)\n",
    "print(\"Done exporting to {}\".format(_output_name))"
   ]
  },
  {
   "cell_type": "code",
   "execution_count": null,
   "metadata": {},
   "outputs": [],
   "source": []
  }
 ],
 "metadata": {
  "kernelspec": {
   "display_name": "Python 3",
   "language": "python",
   "name": "python3"
  },
  "language_info": {
   "codemirror_mode": {
    "name": "ipython",
    "version": 3
   },
   "file_extension": ".py",
   "mimetype": "text/x-python",
   "name": "python",
   "nbconvert_exporter": "python",
   "pygments_lexer": "ipython3",
   "version": "3.8.5"
  }
 },
 "nbformat": 4,
 "nbformat_minor": 4
}
